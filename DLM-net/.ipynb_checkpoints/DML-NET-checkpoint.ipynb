{
 "cells": [
  {
   "cell_type": "code",
   "execution_count": 6,
   "metadata": {
    "ExecuteTime": {
     "end_time": "2018-05-29T15:06:20.076695Z",
     "start_time": "2018-05-29T15:06:20.073354Z"
    }
   },
   "outputs": [],
   "source": [
    "import sys\n",
    "sys.path.append(r'../nets/')  \n",
    "import math\n",
    "import time\n",
    "import tensorflow as tf\n",
    "import ResNet as resnet\n",
    "import fc_relu as fc_relu\n",
    "import numpy as np\n",
    "import scipy.io as scio\n",
    "from scipy import misc\n",
    "from utils import *\n",
    "\n",
    "class DML_NET:\n",
    "    def __init__(self,WIDTH=224,HIGHT=224,CHANNELS=3,intentions=zeros([4])):\n",
    "        # image size\n",
    "        self.fc_relu = FC_relu()\n",
    "        self.resnet50 = ResNet()\n",
    "        self.intentions = intentions\n",
    "    def train(self):\n",
    "        self.resnet50.train()\n",
    "        self.fc_relu.train()\n",
    "    def concatenate(self):\n",
    "        \n",
    "    def select(self):\n",
    "    \n",
    "    \n",
    "        \n",
    "\n",
    "\n"
   ]
  },
  {
   "cell_type": "code",
   "execution_count": null,
   "metadata": {},
   "outputs": [],
   "source": []
  }
 ],
 "metadata": {
  "kernelspec": {
   "display_name": "Python 3",
   "language": "python",
   "name": "python3"
  },
  "language_info": {
   "codemirror_mode": {
    "name": "ipython",
    "version": 3
   },
   "file_extension": ".py",
   "mimetype": "text/x-python",
   "name": "python",
   "nbconvert_exporter": "python",
   "pygments_lexer": "ipython3",
   "version": "3.5.2"
  }
 },
 "nbformat": 4,
 "nbformat_minor": 2
}
