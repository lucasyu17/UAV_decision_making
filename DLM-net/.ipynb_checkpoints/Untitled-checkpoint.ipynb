{
 "cells": [
  {
   "cell_type": "code",
   "execution_count": 3,
   "metadata": {
    "ExecuteTime": {
     "end_time": "2018-05-29T12:01:23.857660Z",
     "start_time": "2018-05-29T12:01:23.854483Z"
    }
   },
   "outputs": [
    {
     "ename": "SyntaxError",
     "evalue": "invalid syntax (<ipython-input-3-0fb46d00f46b>, line 5)",
     "output_type": "error",
     "traceback": [
      "\u001b[0;36m  File \u001b[0;32m\"<ipython-input-3-0fb46d00f46b>\"\u001b[0;36m, line \u001b[0;32m5\u001b[0m\n\u001b[0;31m    import \"../ResNet/ResNet.py\" as resnet\u001b[0m\n\u001b[0m                               ^\u001b[0m\n\u001b[0;31mSyntaxError\u001b[0m\u001b[0;31m:\u001b[0m invalid syntax\n"
     ]
    }
   ],
   "source": [
    "\n",
    "import math\n",
    "import time\n",
    "import tensorflow as tf\n",
    "import ResNet as resnet\n",
    "import numpy as np\n",
    "import scipy.io as scio\n",
    "from scipy import misc\n",
    "from utils import *\n",
    "\n",
    "# image size\n",
    "WIDTH = 224\n",
    "HEIGHT = 224\n",
    "CHANNELS = 3\n",
    "#\"Mini batch size\"\n",
    "MINI_BATCH_SIZE = 32\n",
    "#\"Path of Label.npy\"\n",
    "label_path = \"./label/label_1200.npy\"\n",
    "#\"Path of image file names\"\n",
    "image_name_path = \"./label/name_1200.npy\"\n",
    "# image path\n",
    "# parentPath = \"F:\\\\CACD2000_Crop\\\\\"\n",
    "parentPath = './data'\n",
    "# data Path: n * 224 * 224 * 3 numpy matrix\n",
    "data_path = './data1200_data.npy'\n",
    "\n",
    "\n"
   ]
  }
 ],
 "metadata": {
  "kernelspec": {
   "display_name": "Python 3",
   "language": "python",
   "name": "python3"
  },
  "language_info": {
   "codemirror_mode": {
    "name": "ipython",
    "version": 3
   },
   "file_extension": ".py",
   "mimetype": "text/x-python",
   "name": "python",
   "nbconvert_exporter": "python",
   "pygments_lexer": "ipython3",
   "version": "3.5.2"
  }
 },
 "nbformat": 4,
 "nbformat_minor": 2
}
