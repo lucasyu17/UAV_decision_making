{
 "cells": [
  {
   "cell_type": "code",
   "execution_count": 4,
   "metadata": {
    "ExecuteTime": {
     "end_time": "2018-05-29T12:02:57.571076Z",
     "start_time": "2018-05-29T12:02:57.256742Z"
    }
   },
   "outputs": [],
   "source": [
    "import sys\n",
    "sys.path.append(r'../ResNet/')  \n",
    "import math\n",
    "import time\n",
    "import tensorflow as tf\n",
    "import ResNet as resnet\n",
    "import numpy as np\n",
    "import scipy.io as scio\n",
    "from scipy import misc\n",
    "from utils import *\n",
    "\n",
    "# image size\n",
    "WIDTH = 224\n",
    "HEIGHT = 224\n",
    "CHANNELS = 3\n",
    "#\"Mini batch size\"\n",
    "MINI_BATCH_SIZE = 32\n",
    "#\"Path of Label.npy\"\n",
    "label_path = \"./label/label_1200.npy\"\n",
    "#\"Path of image file names\"\n",
    "image_name_path = \"./label/name_1200.npy\"\n",
    "# image path\n",
    "parentPath = './data'\n",
    "# data Path: n * 224 * 224 * 3 numpy matrix\n",
    "data_path = './data1200_data.npy'\n",
    "\n",
    "\n"
   ]
  },
  {
   "cell_type": "code",
   "execution_count": null,
   "metadata": {},
   "outputs": [],
   "source": []
  }
 ],
 "metadata": {
  "kernelspec": {
   "display_name": "Python 3",
   "language": "python",
   "name": "python3"
  },
  "language_info": {
   "codemirror_mode": {
    "name": "ipython",
    "version": 3
   },
   "file_extension": ".py",
   "mimetype": "text/x-python",
   "name": "python",
   "nbconvert_exporter": "python",
   "pygments_lexer": "ipython3",
   "version": "3.5.2"
  }
 },
 "nbformat": 4,
 "nbformat_minor": 2
}
