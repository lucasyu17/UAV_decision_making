{
 "cells": [
  {
   "cell_type": "code",
   "execution_count": 1,
   "metadata": {
    "ExecuteTime": {
     "end_time": "2018-05-19T00:49:58.299186Z",
     "start_time": "2018-05-19T00:49:54.897026Z"
    }
   },
   "outputs": [],
   "source": [
    "import numpy as np\n",
    "import sklearn.preprocessing as prep\n",
    "import tensorflow as tf\n",
    "from tensorflow.examples.tutorials.mnist import input_data\n",
    "\n",
    "##Xavier initializer:\n",
    "def xavier_initializer(n_input,n_output,cte=1):\n",
    "    minval = -cte*np.sqrt(6.0/(n_input+n_output))\n",
    "    maxval = cte*np.sqrt(6.0/(n_input+n_output))\n",
    "    return tf.random_uniform((n_input,n_output),minval=minval,maxval=maxval,dtype=tf.float32)"
   ]
  },
  {
   "cell_type": "code",
   "execution_count": 11,
   "metadata": {
    "ExecuteTime": {
     "end_time": "2018-05-19T07:19:13.289665Z",
     "start_time": "2018-05-19T07:19:13.279930Z"
    },
    "code_folding": []
   },
   "outputs": [],
   "source": [
    "#Gaussian noise auto-encoder:\n",
    "class AdditiveGuassianNoiseAutoencoder(object):\n",
    "    def __init__(self,n_input,n_hidden,transfer_function=tf.nn.softplus,optimizer=tf.train.AdamOptimizer(),scale = 0.1):\n",
    "        self.n_input = n_input\n",
    "        self.n_hidden = n_hidden\n",
    "        self.transfer_function = transfer_function\n",
    "        self.scale = tf.placeholder(tf.float32)\n",
    "        self.training_scale = scale\n",
    "        network_weight = self.__initialize_weights()\n",
    "        self.weights = network_weight\n",
    "    \n",
    "        #network structures:\n",
    "        self.x = tf.placeholder(tf.float32,[None,self.n_input])\n",
    "        self.hidden = self.transfer_function(tf.add(tf.matmul(self.x + self.scale * tf.random_uniform(n_input),self.weights['w1']),self.weights['b1']))\n",
    "        self.reconstruction = tf.add(tf.matmul(self.hidden,self.weights['w2']),self.weights['b2'])\n",
    "        \n",
    "        #auto-encoder loss function:\n",
    "        self.cost = tf.reduce_sum(tf.pow(tf.subtract(self.reconstruction,self.n_input),2))\n",
    "        self.optimizer = doptimizer.minimize(self.cost)\n",
    "        \n",
    "        init = tf.global_variables_initializer()\n",
    "        self.sess = tf.Session()\n",
    "        self.sess.run(self.init)\n",
    "        \n",
    "    def __initialize_weights(self):\n",
    "        all_weights = dict()\n",
    "        all_weights['w1'] = tf.Variable(xavier_initializer(self.n_input,self.n_hidden))\n",
    "        all_weights['w2'] = tf.Variable(zeros([self.n_hidden],dtype = tf.float32))\n",
    "        all_weights['b1'] = tf.Variable(zeros([n_input,n_hidden],dtype = tf.float32))\n",
    "        all_weights['b2'] = tf.Variable(zeros([n_hidden,n_input],dtype = tf.float32))\n",
    "        return all_weights\n",
    "        tf.Session.run()\n",
    "    def partial_fit(self,X):\n",
    "        cost, opt = self.sess.run((self.cost,self.optimizer),feed_dict = {self.x:X, self.scale: self.training_scale})\n",
    "        return cost\n",
    "        \n",
    "    def calc_total_cost(self,X):\n",
    "        return self.sess.run(self.cost,feed_dict = {self.x:X, self.scale: self.training_scale})\n",
    "    \n",
    "    def transform(self,X):\n",
    "        return self.sess.run(self.hidden,feed_dict = {self.x:X, self.scale: self.training_scale})\n",
    "    \n",
    "    def generate(self,hidden = None):\n",
    "        if hidden == None:\n",
    "            hidden = np.random.normal(size = self.weights['w1'])\n",
    "        return self.sess.run(self.reconstruction, feed_dict = {self.hidden:hidden})\n",
    "    \n",
    "    def reconstruct(self,X):\n",
    "        return self.sess.run(self.reconstruction, feed_dict = {self.x:X, self.scale:self.training_scale})\n",
    "    \n",
    "    def getWeights(self):\n",
    "        return self.sess.run(self.weights['w1'])\n",
    "    \n",
    "    def getBiasis(self):\n",
    "        return self.sess.run(self.weights['b1'])\n",
    "    \n",
    "    \n",
    "    \n",
    "        \n",
    "        \n",
    "        "
   ]
  }
 ],
 "metadata": {
  "kernelspec": {
   "display_name": "Python 3",
   "language": "python",
   "name": "python3"
  },
  "language_info": {
   "codemirror_mode": {
    "name": "ipython",
    "version": 3
   },
   "file_extension": ".py",
   "mimetype": "text/x-python",
   "name": "python",
   "nbconvert_exporter": "python",
   "pygments_lexer": "ipython3",
   "version": "3.5.2"
  },
  "varInspector": {
   "cols": {
    "lenName": 16,
    "lenType": 16,
    "lenVar": 40
   },
   "kernels_config": {
    "python": {
     "delete_cmd_postfix": "",
     "delete_cmd_prefix": "del ",
     "library": "var_list.py",
     "varRefreshCmd": "print(var_dic_list())"
    },
    "r": {
     "delete_cmd_postfix": ") ",
     "delete_cmd_prefix": "rm(",
     "library": "var_list.r",
     "varRefreshCmd": "cat(var_dic_list()) "
    }
   },
   "position": {
    "height": "135px",
    "left": "910px",
    "right": "21.3333px",
    "top": "120px",
    "width": "349px"
   },
   "types_to_exclude": [
    "module",
    "function",
    "builtin_function_or_method",
    "instance",
    "_Feature"
   ],
   "window_display": false
  }
 },
 "nbformat": 4,
 "nbformat_minor": 2
}
