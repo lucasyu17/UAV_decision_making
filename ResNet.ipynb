{
 "cells": [
  {
   "cell_type": "code",
   "execution_count": 2,
   "metadata": {
    "ExecuteTime": {
     "end_time": "2018-05-28T15:00:42.205156Z",
     "start_time": "2018-05-28T15:00:38.046004Z"
    }
   },
   "outputs": [],
   "source": [
    "#ResNet,slim first trial\n",
    "import collections\n",
    "import tensorflow as tf\n",
    "slim = tf.contrib.slim "
   ]
  },
  {
   "cell_type": "code",
   "execution_count": 3,
   "metadata": {
    "ExecuteTime": {
     "end_time": "2018-05-28T15:47:03.012572Z",
     "start_time": "2018-05-28T15:47:03.006132Z"
    }
   },
   "outputs": [],
   "source": [
    "class  Block(collections.namedtuple('Block',['scope','unit_fn','args'])):\n",
    "    'A named tuple describing a ResNet block'\n",
    "\n",
    "def subsample(inputs,factor,scope=None):\n",
    "    if factor==1:\n",
    "        return inputs\n",
    "    else:\n",
    "        return slim.max_pool2d(inputs,[1,1],stride=factor,scope=scope)\n",
    "def conv2d_same(inputs,num_outputs,kernel_size,stride,scope=None):\n",
    "    if stride == 1:\n",
    "        return slim.conv2d(inputs,num_outputs,kernel_size,stride=1,padding='SAME',scope=scope)\n",
    "    else:\n",
    "        pad_total = kernel_size-1\n",
    "        pad_beg = pad_total//2\n",
    "        pad_end = pad_total - pad_beg\n",
    "        inputs = tf.pad(inputs,[[0,0],[pad_beg,pad_end],\n",
    "                                [pad_beg,pad_end],[0,0]])\n",
    "        return slim.conv2d(inputs,num_outputs,kernel_size,\n",
    "                           stride=stride,padding = 'VALID',\n",
    "                           scope=scope)\n",
    "    "
   ]
  }
 ],
 "metadata": {
  "kernelspec": {
   "display_name": "Python 3",
   "language": "python",
   "name": "python3"
  },
  "language_info": {
   "codemirror_mode": {
    "name": "ipython",
    "version": 3
   },
   "file_extension": ".py",
   "mimetype": "text/x-python",
   "name": "python",
   "nbconvert_exporter": "python",
   "pygments_lexer": "ipython3",
   "version": "3.5.2"
  }
 },
 "nbformat": 4,
 "nbformat_minor": 2
}
