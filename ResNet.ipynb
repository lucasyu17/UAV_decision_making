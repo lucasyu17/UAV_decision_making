{
 "cells": [
  {
   "cell_type": "code",
   "execution_count": 1,
   "metadata": {
    "ExecuteTime": {
     "end_time": "2018-05-29T02:08:53.708621Z",
     "start_time": "2018-05-29T02:08:51.269734Z"
    }
   },
   "outputs": [
    {
     "name": "stderr",
     "output_type": "stream",
     "text": [
      "/usr/local/lib/python3.5/dist-packages/h5py/__init__.py:36: FutureWarning: Conversion of the second argument of issubdtype from `float` to `np.floating` is deprecated. In future, it will be treated as `np.float64 == np.dtype(float).type`.\n",
      "  from ._conv import register_converters as _register_converters\n"
     ]
    }
   ],
   "source": [
    "#ResNet,slim first trial\n",
    "import collections\n",
    "import tensorflow as tf\n",
    "slim = tf.contrib.slim "
   ]
  },
  {
   "cell_type": "code",
   "execution_count": 2,
   "metadata": {
    "ExecuteTime": {
     "end_time": "2018-05-29T02:08:53.714068Z",
     "start_time": "2018-05-29T02:08:53.709940Z"
    }
   },
   "outputs": [],
   "source": [
    "class  Block(collections.namedtuple('Block',['scope','unit_fn','args'])):\n",
    "    'A named tuple describing a ResNet block'\n",
    "\n",
    "def subsample(inputs,factor,scope=None):\n",
    "    if factor==1:\n",
    "        return inputs\n",
    "    else:\n",
    "        return slim.max_pool2d(inputs,[1,1],\n",
    "                               stride=factor,\n",
    "                               scope=scope)\n",
    "def conv2d_same(inputs,num_outputs,\n",
    "                kernel_size,stride,\n",
    "                scope=None):\n",
    "    if stride == 1:\n",
    "        return slim.conv2d(inputs,num_outputs,kernel_size,stride=1,padding='SAME',scope=scope)\n",
    "    else:\n",
    "        pad_total = kernel_size-1\n",
    "        pad_beg = pad_total//2\n",
    "        pad_end = pad_total - pad_beg\n",
    "        inputs = tf.pad(inputs,[[0,0],[pad_beg,pad_end],\n",
    "                                [pad_beg,pad_end],[0,0]])\n",
    "        return slim.conv2d(inputs,num_outputs,kernel_size,\n",
    "                           stride=stride,padding = 'VALID',\n",
    "                           scope=scope)\n"
   ]
  },
  {
   "cell_type": "code",
   "execution_count": 3,
   "metadata": {
    "ExecuteTime": {
     "end_time": "2018-05-29T02:13:53.210090Z",
     "start_time": "2018-05-29T02:13:53.206792Z"
    }
   },
   "outputs": [],
   "source": [
    "@slim.add_arg_scope\n",
    "def stack_blocks_dense(net,blocks,outputs_collections=None):\n",
    "    for block in blocks:\n",
    "        with tf.variable_scope(block.scope,'block',[net]) as sc:\n",
    "            for i, unit in enumerate(block.args):\n",
    "                with tf.variable_scope('unit_%d'%(i+1),values=[net]):\n",
    "                    unit_depth, unit_depth_bottleneck, unit_stride = unit\n",
    "                    net = block.unit_fn(net,\n",
    "                                        depth=unit_depth,\n",
    "                                        depth_bottleneck=unit_depth_bottleneck,\n",
    "                                        stride=unit_stride)\n",
    "                net = slim.utils.collect_named_outputs(outputs_collections,sc.name,net)\n",
    "    return net"
   ]
  },
  {
   "cell_type": "code",
   "execution_count": 10,
   "metadata": {
    "ExecuteTime": {
     "end_time": "2018-05-29T02:53:22.374827Z",
     "start_time": "2018-05-29T02:53:22.368835Z"
    }
   },
   "outputs": [],
   "source": [
    "def resnet_arg_scope(is_training=True,\n",
    "                     weight_decay=0.0001,\n",
    "                     batch_norm_decay=0.997,\n",
    "                     batch_norm_epsilon=1e-5,\n",
    "                     batch_norm_scale=True):\n",
    "    batch_norm_params = {\n",
    "        'is_training':is_training,\n",
    "        'decay':batch_norm_decay,\n",
    "        'epsilon':batch_norm_epsilon,\n",
    "        'scale':batch_norm_scale,\n",
    "        'updates_collections':tf.GraphKeys.UPDATE_OPS\n",
    "    }\n",
    "    with slim.arg_scope([slim.conv2d],\n",
    "                        weights_regularizer=slim.l2_regularizer(weight_decay),\n",
    "                        weights_initializer=slim.variance_scaling_initializer(),\n",
    "                        activation_fn=tf.nn.relu,\n",
    "                        normalizer_fn=slim.batch_norm,\n",
    "                        normalizer_params=batch_norm_params):\n",
    "        \n",
    "        with slim.arg_scope([slim.batch_norm],**batch_norm_params):\n",
    "            with slim.arg_scope([slim.max_pool2d],padding='SAME') as arg_sc:\n",
    "                return arg_sc"
   ]
  },
  {
   "cell_type": "code",
   "execution_count": 11,
   "metadata": {
    "ExecuteTime": {
     "end_time": "2018-05-29T03:11:47.000590Z",
     "start_time": "2018-05-29T03:11:46.996002Z"
    }
   },
   "outputs": [],
   "source": [
    "@slim.add_arg_scope\n",
    "def bottleneck(inputs,depth,depth_bottleneck,stride,\n",
    "               outputs_collections=None, scope=None):\n",
    "    with tf.variable_scope(scope,'bottleneck_v2',[inputs]) as sc:\n",
    "        depth_in = slim.utils.last_dimension(inputs.get_shape(),min_rank=4)\n",
    "        preact = slim.batch_norm(inputs,activation_fn=tf.nn.relu,\n",
    "                                 scope='preact')\n",
    "        if depth == depth_in:\n",
    "            shortcut = subsample(inputs,stride,'shortcut')\n",
    "        else:\n",
    "            shortcut = slim.conv2d(preact,depth,[1,1],\n",
    "                                   stride=stride,\n",
    "                                   normalizer_fn=None,\n",
    "                                   activation_fn=None,\n",
    "                                   scope='shortcut')\n",
    "            residual = slim.conv2d(preact,depth_bottleneck,[1,1],stride=1,\n",
    "                                   scope = 'conv1')\n",
    "            residual = conv2d_same(residual,depth_bottleneck,3,stide,\n",
    "                                   scope = 'conv2')\n",
    "            residual = slim.conv2d(residual,depth,[1,1],stride=1,\n",
    "                                   normalizer_fn=None, activation_fn=None,\n",
    "                                   scope='conv3')\n",
    "            \n",
    "            output = shortcut + residual\n",
    "            \n",
    "            return slim.utils.collect_named_outputs(outputs_collections,\n",
    "                                                   sc.name,output)"
   ]
  }
 ],
 "metadata": {
  "kernelspec": {
   "display_name": "Python 3",
   "language": "python",
   "name": "python3"
  },
  "language_info": {
   "codemirror_mode": {
    "name": "ipython",
    "version": 3
   },
   "file_extension": ".py",
   "mimetype": "text/x-python",
   "name": "python",
   "nbconvert_exporter": "python",
   "pygments_lexer": "ipython3",
   "version": "3.5.2"
  }
 },
 "nbformat": 4,
 "nbformat_minor": 2
}
