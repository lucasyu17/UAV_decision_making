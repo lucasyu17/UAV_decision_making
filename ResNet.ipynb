{
 "cells": [
  {
   "cell_type": "code",
   "execution_count": 1,
   "metadata": {
    "ExecuteTime": {
     "end_time": "2018-06-07T06:29:02.836488Z",
     "start_time": "2018-06-07T06:28:51.563309Z"
    }
   },
   "outputs": [],
   "source": [
    "#ResNet,slim first trial\n",
    "import collections\n",
    "import tensorflow as tf\n",
    "slim = tf.contrib.slim "
   ]
  },
  {
   "cell_type": "code",
   "execution_count": 2,
   "metadata": {
    "ExecuteTime": {
     "end_time": "2018-06-07T06:29:02.863106Z",
     "start_time": "2018-06-07T06:29:02.855106Z"
    }
   },
   "outputs": [],
   "source": [
    "class  Block(collections.namedtuple('Block',['scope','unit_fn','args'])):\n",
    "    'A named tuple describing a ResNet block'\n",
    "\n",
    "def subsample(inputs,factor,scope=None):\n",
    "    if factor==1:\n",
    "        return inputs\n",
    "    else:\n",
    "        return slim.max_pool2d(inputs,[1,1],\n",
    "                               stride=factor,\n",
    "                               scope=scope)\n",
    "def conv2d_same(inputs,num_outputs,\n",
    "                kernel_size,stride,\n",
    "                scope=None):\n",
    "    if stride == 1:\n",
    "        return slim.conv2d(inputs,num_outputs,kernel_size,stride=1,padding='SAME',scope=scope)\n",
    "    else:\n",
    "        pad_total = kernel_size-1\n",
    "        pad_beg = pad_total//2\n",
    "        pad_end = pad_total - pad_beg\n",
    "        inputs = tf.pad(inputs,[[0,0],[pad_beg,pad_end],\n",
    "                                [pad_beg,pad_end],[0,0]])\n",
    "        return slim.conv2d(inputs,num_outputs,kernel_size,\n",
    "                           stride=stride,padding = 'VALID',\n",
    "                           scope=scope)\n"
   ]
  },
  {
   "cell_type": "code",
   "execution_count": 3,
   "metadata": {
    "ExecuteTime": {
     "end_time": "2018-06-07T06:29:10.188838Z",
     "start_time": "2018-06-07T06:29:10.184932Z"
    }
   },
   "outputs": [],
   "source": [
    "@slim.add_arg_scope\n",
    "def stack_blocks_dense(net,blocks,outputs_collections=None):\n",
    "    for block in blocks:\n",
    "        with tf.variable_scope(block.scope,'block',[net]) as sc:\n",
    "            for i, unit in enumerate(block.args):\n",
    "                with tf.variable_scope('unit_%d'%(i+1),values=[net]):\n",
    "                    unit_depth, unit_depth_bottleneck, unit_stride = unit\n",
    "                    net = block.unit_fn(net,\n",
    "                                        depth=unit_depth,\n",
    "                                        depth_bottleneck=unit_depth_bottleneck,\n",
    "                                        stride=unit_stride)\n",
    "                net = slim.utils.collect_named_outputs(outputs_collections,sc.name,net)\n",
    "    return net"
   ]
  },
  {
   "cell_type": "code",
   "execution_count": 4,
   "metadata": {
    "ExecuteTime": {
     "end_time": "2018-06-07T06:29:12.470526Z",
     "start_time": "2018-06-07T06:29:12.455863Z"
    }
   },
   "outputs": [],
   "source": [
    "\n",
    "def resnet_arg_scope(is_training=True,\n",
    "                     weight_decay=0.0001,\n",
    "                     batch_norm_decay=0.997,\n",
    "                     batch_norm_epsilon=1e-5,\n",
    "                     batch_norm_scale=True):\n",
    "    batch_norm_params = {\n",
    "        'is_training':is_training,\n",
    "        'decay':batch_norm_decay,\n",
    "        'epsilon':batch_norm_epsilon,\n",
    "        'scale':batch_norm_scale,\n",
    "        'updates_collections':tf.GraphKeys.UPDATE_OPS\n",
    "    }\n",
    "    with slim.arg_scope([slim.conv2d],\n",
    "                        weights_regularizer=slim.l2_regularizer(weight_decay),\n",
    "                        weights_initializer=slim.variance_scaling_initializer(),\n",
    "                        activation_fn=tf.nn.relu,\n",
    "                        normalizer_fn=slim.batch_norm,\n",
    "                        normalizer_params=batch_norm_params):\n",
    "        \n",
    "        with slim.arg_scope([slim.batch_norm],**batch_norm_params):\n",
    "            with slim.arg_scope([slim.max_pool2d],padding='SAME') as arg_sc:\n",
    "                return arg_sc"
   ]
  },
  {
   "cell_type": "code",
   "execution_count": 11,
   "metadata": {
    "ExecuteTime": {
     "end_time": "2018-06-07T07:23:30.766349Z",
     "start_time": "2018-06-07T07:23:30.759488Z"
    }
   },
   "outputs": [],
   "source": [
    "#define the core function: bottleneck resnet unit\n",
    "@slim.add_arg_scope\n",
    "def bottleneck(inputs,depth,depth_bottleneck,stride,\n",
    "               outputs_collections=None, scope=None):\n",
    "    with tf.variable_scope(scope,'bottleneck_v2',[inputs]) as sc:\n",
    "        depth_in = slim.utils.last_dimension(inputs.get_shape(),min_rank=4)\n",
    "        preact = slim.batch_norm(inputs,activation_fn=tf.nn.relu,\n",
    "                                 scope='preact')\n",
    "        if depth == depth_in:\n",
    "            shortcut = subsample(inputs,stride,'shortcut')\n",
    "        else:\n",
    "            shortcut = slim.conv2d(preact,depth,[1,1],\n",
    "                                   stride=stride,\n",
    "                                   normalizer_fn=None,\n",
    "                                   activation_fn=None,\n",
    "                                   scope='shortcut')\n",
    "        residual = slim.conv2d(preact,depth_bottleneck,[1,1],stride=1,\n",
    "                                   scope = 'conv1')\n",
    "        residual = conv2d_same(residual,depth_bottleneck,3,stide,\n",
    "                                   scope = 'conv2')\n",
    "        residual = slim.conv2d(residual,depth,[1,1],stride=1,\n",
    "                                   normalizer_fn=None, activation_fn=None,\n",
    "                                   scope='conv3')\n",
    "            \n",
    "        output = shortcut + residual\n",
    "            \n",
    "        return slim.utils.collect_named_outputs(outputs_collections,\n",
    "                                                   sc.name,output)"
   ]
  },
  {
   "cell_type": "code",
   "execution_count": 7,
   "metadata": {
    "ExecuteTime": {
     "end_time": "2018-06-07T06:45:39.811069Z",
     "start_time": "2018-06-07T06:45:39.804346Z"
    }
   },
   "outputs": [],
   "source": [
    "#main function to generate ResNet V2\n",
    "def resnet_v2(inputs,\n",
    "              blocks,\n",
    "              num_classes=None,\n",
    "              global_pool=True,\n",
    "              include_root_block=True,\n",
    "              reuse=None,\n",
    "              scope=None):\n",
    "    with tf.variable_scope(scope, 'resnet_v2', [inputs],reuse=reuse) as sc:\n",
    "        end_points_collection = sc.original_name_scope + '_end_points'\n",
    "        with slim.arg_scope([slim.conv2d,bottleneck,stack_blocks_dense],\n",
    "                            outputs_collections=end_points_collection):\n",
    "            net = inputs\n",
    "            if include_root_block:\n",
    "                with slim.arg_scope([slim.conv2d],activation_fn=None,\n",
    "                                   normalizer_fn=None):\n",
    "                    net = conv2d_same(net,64,7,stride=2,scope='conv1')\n",
    "                net = slim.max_pool2d(net,[3,3],stride=2,scope='pool1')\n",
    "            net = stack_blocks_dense(net,blocks)\n",
    "            net = slim.batch_norm(net,activation_fn=tf.nn.relu,scope='postnorm')\n",
    "            if global_pool:\n",
    "                net = tf.reduce_mean(net,[1,2],name='pool5',keep_dims=True)\n",
    "            if num_classes is not None:\n",
    "                net = slim.conv2d(net,num_classes,[1,1],activation_fn=None,\n",
    "                                  normalizer_fn=None,scope='logits')\n",
    "            end_points = slim.utils.convert_collection_to_dict(end_points_collection)\n",
    "            \n",
    "            if num_classes is not None:\n",
    "                end_points['predictions'] = slim.softmax(net,scope='predictions')\n",
    "            return net, end_points"
   ]
  },
  {
   "cell_type": "code",
   "execution_count": 10,
   "metadata": {
    "ExecuteTime": {
     "end_time": "2018-06-07T06:54:51.631869Z",
     "start_time": "2018-06-07T06:54:51.627234Z"
    }
   },
   "outputs": [],
   "source": [
    "#define resnet50\n",
    "def resnet_v2_50(inputs,\n",
    "                 num_classes=None,\n",
    "                 global_pool=True,\n",
    "                 reuse=None,\n",
    "                 scope='resnet_v2_50'):\n",
    "    blocks = [\n",
    "        Block('block1',bottleneck,[(256,64,1)]*2+[(256,64,2)]),\n",
    "        Block('block2',bottleneck,[(512,128,1)]*3+[(512,128,2)]),\n",
    "        Block('block3',bottleneck,[(1024,256,1)]*5+[1024,256,2]),\n",
    "        Block('block4',bottleneck,[(2048,512,1)]*3)\n",
    "    ]\n",
    "    return resnet_v2(inputs,blocks,num_classes,global_pool,\n",
    "                     include_root_block=True, reuse=reuse, scope=scope)"
   ]
  }
 ],
 "metadata": {
  "kernelspec": {
   "display_name": "Python 3",
   "language": "python",
   "name": "python3"
  },
  "language_info": {
   "codemirror_mode": {
    "name": "ipython",
    "version": 3
   },
   "file_extension": ".py",
   "mimetype": "text/x-python",
   "name": "python",
   "nbconvert_exporter": "python",
   "pygments_lexer": "ipython3",
   "version": "3.5.2"
  },
  "varInspector": {
   "cols": {
    "lenName": 16,
    "lenType": 16,
    "lenVar": 40
   },
   "kernels_config": {
    "python": {
     "delete_cmd_postfix": "",
     "delete_cmd_prefix": "del ",
     "library": "var_list.py",
     "varRefreshCmd": "print(var_dic_list())"
    },
    "r": {
     "delete_cmd_postfix": ") ",
     "delete_cmd_prefix": "rm(",
     "library": "var_list.r",
     "varRefreshCmd": "cat(var_dic_list()) "
    }
   },
   "types_to_exclude": [
    "module",
    "function",
    "builtin_function_or_method",
    "instance",
    "_Feature"
   ],
   "window_display": false
  }
 },
 "nbformat": 4,
 "nbformat_minor": 2
}
