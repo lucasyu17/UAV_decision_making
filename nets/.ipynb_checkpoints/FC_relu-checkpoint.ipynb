{
 "cells": [
  {
   "cell_type": "code",
   "execution_count": 10,
   "metadata": {
    "ExecuteTime": {
     "end_time": "2018-05-29T13:35:32.300020Z",
     "start_time": "2018-05-29T13:35:32.298294Z"
    }
   },
   "outputs": [],
   "source": [
    "import numpy as np\n",
    "import tensorflow as tf\n"
   ]
  },
  {
   "cell_type": "code",
   "execution_count": 12,
   "metadata": {
    "ExecuteTime": {
     "end_time": "2018-05-29T13:37:34.199333Z",
     "start_time": "2018-05-29T13:37:34.192407Z"
    }
   },
   "outputs": [],
   "source": [
    "class FC_relu:\n",
    "    def __init__(self, input_dim = 4, output_dim=64, \n",
    "                 activate_fn=tf.nn.relu,train_range=1000):\n",
    "        self.input_dim = input_dim\n",
    "        self.output_dim = output_dim\n",
    "        self.activate_fn = activate_fn\n",
    "        self.train_range = train_range\n",
    "        self.batch_offset = 0\n",
    "        self.x = tf.placeholder(tf.float32,[None,self.input_dim])\n",
    "        self.W = tf.Variable(tf.zeros([self.input_dim,self.output_dim]))\n",
    "        self.b = tf.Variable(tf.zeros([None,self.output_dim]))\n",
    "        self.y = tf.nn.relu(tf.matmul(\n",
    "                 self.x,self.W+b))\n",
    "        self.y_ = tf.placeholder(tf.float32,[None,self.output_dim])\n",
    "        self.cross_entropy = tf.reduce_mean(\n",
    "                            -tf.reduce_sum(\n",
    "                             self.y_*tf.log(self.y),reduction_indices=[1]))\n",
    "        self.train_step=tf.train.GradientDescentOptimizer(0.5).minimize(cross_entropy)\n",
    "        tf.global_variables_initializer().run()\n",
    "    def train(self):\n",
    "        for i in range(self.train_range):\n",
    "            batch_xs,batch_ys = self.next_batch(100)\n",
    "            self.train_step.run({self.x:batch_xs,self.y_:batch_ys})\n",
    "        self.correct_prediction = tf.equal(tf.argmax(self.y,1),tf.argmax(self.y_,1))\n",
    "        self.accuracy = tf.reduce_mean(tf.cast(self.correct_prediction,tf.float32))\n",
    "         \n",
    "    def next_batch(self,batch_step):\n",
    "        return [self.x[self.batch_offset:self.batch_offset+batch_step,4],\n",
    "               self.y_[self.batch_offset:self.batch_offset+batch_step,64]]"
   ]
  }
 ],
 "metadata": {
  "kernelspec": {
   "display_name": "Python 3",
   "language": "python",
   "name": "python3"
  },
  "language_info": {
   "codemirror_mode": {
    "name": "ipython",
    "version": 3
   },
   "file_extension": ".py",
   "mimetype": "text/x-python",
   "name": "python",
   "nbconvert_exporter": "python",
   "pygments_lexer": "ipython3",
   "version": "3.5.2"
  }
 },
 "nbformat": 4,
 "nbformat_minor": 2
}
